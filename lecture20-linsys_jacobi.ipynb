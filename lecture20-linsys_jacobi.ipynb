{
 "cells": [
  {
   "cell_type": "code",
   "execution_count": 2,
   "metadata": {
    "autoscroll": false
   },
   "outputs": [
    {
     "name": "stderr",
     "output_type": "stream",
     "text": [
      "\u001b[1m\u001b[33mWARNING: \u001b[39m\u001b[22m\u001b[33mreplacing docs for 'linsys_jacobi :: NTuple{4,Any}' in module 'Main'.\u001b[39m\n"
     ]
    },
    {
     "data": {
      "text/plain": [
       "linsys_jacobi (generic function with 2 methods)"
      ]
     },
     "execution_count": 2,
     "metadata": {},
     "output_type": "execute_result"
    }
   ],
   "source": [
    "\"\"\"\n",
    "    linsys_jacobi Solve a linear system with the Jacobi method\n",
    "    x = linsys_jacobi(A,b) uses the Jacobi method,\n",
    "    where the element-wise residual is 1e-8\n",
    "\n",
    "    x,hist = linsys_jacobi(A,b,tol,maxit) also takes\n",
    "    additional arguments that give:\n",
    "    the stopping tolerance: tol >= 0\n",
    "    the maximum number of iterations: maxit > 0\n",
    "    each argument assumes it's default value of\n",
    "        tol = 1e-8\n",
    "        maxit = 100*sqrt(n)\n",
    "\n",
    "    hist returns the largest element-wise change in each\n",
    "    iteration, and this is an upper-bound on the residual.\n",
    "```\n",
    "Example:\n",
    "    L = [\n",
    "        4    -1     0    -1     0     0     0     0     0\n",
    "       -1     4    -1     0    -1     0     0     0     0\n",
    "        0    -1     4     0     0    -1     0     0     0\n",
    "       -1     0     0     4    -1     0    -1     0     0\n",
    "        0    -1     0    -1     4    -1     0    -1     0\n",
    "        0     0    -1     0    -1     4     0     0    -1\n",
    "        0     0     0    -1     0     0     4    -1     0\n",
    "        0     0     0     0    -1     0    -1     4    -1\n",
    "        0     0     0     0     0    -1     0    -1     4\n",
    "    ]\n",
    "    b = ones(size(L,1))\n",
    "    x = linsys_jacobi(L,b)\n",
    "```\n",
    "\"\"\"\n",
    "function linsys_jacobi(A,b,tol,maxit)\n",
    "  n = length(b)\n",
    "\n",
    "  x = b[:]\n",
    "  d = diag(A)\n",
    "  id = 1./d\n",
    "  N = -(A - diagm(d))\n",
    "  normb = norm(b,Inf)\n",
    "  hist = zeros(maxit)\n",
    "\n",
    "  assert(size(A,1) == n)\n",
    "  assert(size(A,2) == n)\n",
    "  iter = 1\n",
    "  dt = 0\n",
    "  maxdiff = 0\n",
    "  for iter = 1:maxit\n",
    "    tic()\n",
    "    xn = id.*(b + N*x)\n",
    "    maxdiff = norm(xn-x,Inf)\n",
    "    x = xn\n",
    "    hist[iter] = maxdiff\n",
    "    if mod(iter,10^floor(log10(iter)))==0 || iter==maxit || maxdiff/normb <= tol\n",
    "      dt += toq()\n",
    "      @printf(\" iter=%8i  diff=%8.1e  res=%8.1e  time=%7.1f\\n\",\n",
    "      iter, maxdiff, norm(b-A*x)/norm(b), dt)\n",
    "    end\n",
    "    if maxdiff/normb <= tol\n",
    "      break\n",
    "    end\n",
    "  end\n",
    "  if iter==maxit && maxdiff/normb > tol\n",
    "    warn(@sprintf(\" the sor method\n",
    "    did not converge to a tolerance of %.1e\n",
    "    in %i steps\",tol,maxit))\n",
    "  end\n",
    "  return x,hist\n",
    "end\n",
    "\n",
    "linsys_jacobi(A,b) = linsys_jacobi(A,b,1e-8,ceil(Int64,100*sqrt(length(b))))\n"
   ]
  },
  {
   "cell_type": "code",
   "execution_count": 3,
   "metadata": {},
   "outputs": [
    {
     "name": "stdout",
     "output_type": "stream",
     "text": [
      " iter=       1  diff= 2.5e-01  res= 1.7e-01  time=    0.0\n",
      " iter=       2  diff= 6.3e-02  res= 1.2e-01  time=    0.0\n",
      " iter=       3  diff= 6.3e-02  res= 8.3e-02  time=    0.0\n",
      " iter=       4  diff= 3.1e-02  res= 5.9e-02  time=    0.0\n",
      " iter=       5  diff= 3.1e-02  res= 4.2e-02  time=    0.0\n",
      " iter=       6  diff= 1.6e-02  res= 2.9e-02  time=    0.0\n",
      " iter=       7  diff= 1.6e-02  res= 2.1e-02  time=    0.0\n",
      " iter=       8  diff= 7.8e-03  res= 1.5e-02  time=    0.0\n",
      " iter=       9  diff= 7.8e-03  res= 1.0e-02  time=    0.0\n",
      " iter=      10  diff= 3.9e-03  res= 7.4e-03  time=    0.0\n",
      " iter=      20  diff= 1.2e-04  res= 2.3e-04  time=    0.0\n",
      " iter=      30  diff= 3.8e-06  res= 7.2e-06  time=    0.0\n",
      " iter=      40  diff= 1.2e-07  res= 2.2e-07  time=    0.0\n",
      " iter=      48  diff= 7.5e-09  res= 1.4e-08  time=    0.0\n"
     ]
    },
    {
     "data": {
      "text/plain": [
       "([0.6875, 0.875, 0.6875, 0.875, 1.125, 0.875, 0.6875, 0.875, 0.6875], [0.25, 0.0625, 0.0625, 0.03125, 0.03125, 0.015625, 0.015625, 0.0078125, 0.0078125, 0.00390625  …  0.0, 0.0, 0.0, 0.0, 0.0, 0.0, 0.0, 0.0, 0.0, 0.0])"
      ]
     },
     "execution_count": 3,
     "metadata": {},
     "output_type": "execute_result"
    }
   ],
   "source": [
    "    L = [\n",
    "        4    -1     0    -1     0     0     0     0     0\n",
    "       -1     4    -1     0    -1     0     0     0     0\n",
    "        0    -1     4     0     0    -1     0     0     0\n",
    "       -1     0     0     4    -1     0    -1     0     0\n",
    "        0    -1     0    -1     4    -1     0    -1     0\n",
    "        0     0    -1     0    -1     4     0     0    -1\n",
    "        0     0     0    -1     0     0     4    -1     0\n",
    "        0     0     0     0    -1     0    -1     4    -1\n",
    "        0     0     0     0     0    -1     0    -1     4\n",
    "    ]\n",
    "    b = ones(size(L,1))\n",
    "    x = linsys_jacobi(L,b)"
   ]
  },
  {
   "cell_type": "code",
   "execution_count": null,
   "metadata": {
    "collapsed": true
   },
   "outputs": [],
   "source": []
  }
 ],
 "metadata": {
  "kernelspec": {
   "display_name": "Julia 0.6.0",
   "language": "julia",
   "name": "julia-0.6"
  },
  "language_info": {
   "file_extension": ".jl",
   "mimetype": "application/julia",
   "name": "julia",
   "version": "0.6.0"
  }
 },
 "nbformat": 4,
 "nbformat_minor": 1
}
