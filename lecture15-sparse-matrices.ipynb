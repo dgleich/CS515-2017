{
 "cells": [
  {
   "cell_type": "code",
   "execution_count": null,
   "metadata": {
    "autoscroll": false
   },
   "outputs": [],
   "source": [
    "## Intro to Sparse Matrices\n",
    "\n"
   ]
  },
  {
   "cell_type": "code",
   "execution_count": null,
   "metadata": {
    "autoscroll": false
   },
   "outputs": [],
   "source": [
    "## Coordinate format.\n",
    "I = [1,2,1,2,5,1,4,6,3]\n",
    "J = [1,1,2,2,1,4,2,2,3]\n",
    "V = [2,-1,1,1,-1,-1,1,2,2]\n"
   ]
  },
  {
   "cell_type": "code",
   "execution_count": null,
   "metadata": {
    "autoscroll": false
   },
   "outputs": [],
   "source": [
    "##\n",
    "A = zeros(Int64,6,4)\n",
    "for k = 1:length(I)\n",
    "    A[I[k],J[k]] = V[k]\n",
    "end\n"
   ]
  },
  {
   "cell_type": "code",
   "execution_count": null,
   "metadata": {
    "autoscroll": false
   },
   "outputs": [],
   "source": [
    "##\n",
    "A = sparse(I,J,V,6,4)\n",
    "\n"
   ]
  },
  {
   "cell_type": "code",
   "execution_count": null,
   "metadata": {
    "autoscroll": false
   },
   "outputs": [],
   "source": [
    "##\n",
    "\"\"\"\n",
    "spmatvec_coord Compute a sparse matrix vector product with A in coord form\n",
    "    y = spmatvec(Acoord, x) compute y=A*x where A is represented as a matrix in\n",
    "    coordinate form:\n",
    "        Acoord is a nnz-by-3 array where\n",
    "        Acoord[k,1] is the row index of the kth non-zero\n",
    "        Acoord[k,2] is the column index of the kth non-zero\n",
    "        Acoord[k,3] is the value of the kth non-zero\n",
    "    ```\n",
    "    Example:\n",
    "    n = 10\n",
    "    A = sprand(n,n,0.2)\n",
    "    i,j,v = findnz(A)\n",
    "    x = randn(n)\n",
    "    z = A*x\n",
    "    C = SparseTripletFormat(i,j,v)\n",
    "    y = spmatvec_coord(C,x)\n",
    "    @show norm(z-y)\n",
    "```\n",
    "\n",
    "\n",
    "\"\"\"\n",
    "type SparseTripletFormat{T}\n",
    "  i::Array{Int64}\n",
    "  j::Array{Int64}\n",
    "  v::Array{T}\n",
    "end\n",
    "function spmatvec_coord(C, x)\n",
    "  m = maximum(C.i)\n",
    "  y = zeros(m)\n",
    "  for k = 1:length(C.i)\n",
    "    y[C.i[k]] = y[C.i[k]] + C.v[k]*x[C.j[k]]\n",
    "  end\n",
    "  return y\n",
    "end\n",
    "\n"
   ]
  },
  {
   "cell_type": "code",
   "execution_count": null,
   "metadata": {
    "autoscroll": false
   },
   "outputs": [],
   "source": [
    "##\n",
    "\"\"\"\n",
    "    spmatvec_csc Compute a sparse matrix vector product with A in CSC form\n",
    "    y = spmatvec_csc(A,x) multiply a sparse matrix stored in compressed\n",
    "\n",
    "    ```\n",
    "    Example:\n",
    "    n = 10\n",
    "    A = sprand(n,n,0.2)\n",
    "    x = randn(n)\n",
    "    z = A*x\n",
    "    y = spmatvec_csc(A,x)\n",
    "    @show norm(z-y)\n",
    "    ```\n",
    "\"\"\"\n",
    "function spmatvec_csc{T}(A::SparseMatrixCSC{T,Int64},x)\n",
    "assert(A.n == length(x))\n",
    "y = zeros(A.m)\n",
    "for j = 1:A.n\n",
    "    for k = A.colptr[j]:(A.colptr[j+1]-1)\n",
    "        y[A.rowval[k]] = y[A.rowval[k]] + A.nzval[k]*x[j]\n",
    "    end\n",
    "end\n",
    "return y\n",
    "end\n",
    "\n",
    "\n"
   ]
  },
  {
   "cell_type": "code",
   "execution_count": null,
   "metadata": {
    "autoscroll": false
   },
   "outputs": [],
   "source": [
    "##\n",
    "x = randn(4,1)\n",
    "C = SparseTripletFormat(I,J,V)\n",
    "y = spmatvec_coord(C,x)\n"
   ]
  },
  {
   "cell_type": "code",
   "execution_count": null,
   "metadata": {
    "autoscroll": false
   },
   "outputs": [],
   "source": [
    "##\n",
    "yjulia = A*x\n"
   ]
  },
  {
   "cell_type": "code",
   "execution_count": null,
   "metadata": {
    "autoscroll": false
   },
   "outputs": [],
   "source": [
    "##\n",
    "y - yjulia\n",
    "\n"
   ]
  },
  {
   "cell_type": "code",
   "execution_count": null,
   "metadata": {
    "autoscroll": false
   },
   "outputs": [],
   "source": [
    "## Convert to a sparse matrix\n",
    "A = sparse(I,J,V,6,4)\n",
    "\n"
   ]
  },
  {
   "cell_type": "code",
   "execution_count": null,
   "metadata": {
    "autoscroll": false
   },
   "outputs": [],
   "source": [
    "## Convert to a dense matrix.\n",
    "full(A)\n",
    "\n"
   ]
  },
  {
   "cell_type": "code",
   "execution_count": null,
   "metadata": {
    "autoscroll": false
   },
   "outputs": [],
   "source": [
    "## Convert sparse A back to coordinate\n",
    "i,j,v = findnz(A)\n",
    "\n"
   ]
  },
  {
   "cell_type": "code",
   "execution_count": null,
   "metadata": {
    "autoscroll": false
   },
   "outputs": [],
   "source": [
    "## Compressed sparse column\n",
    "I = [1,2,5,1,2,4,6,3,1]\n",
    "V = [2,-1,-1,1,1,1,2,2,-1]\n",
    "Jp = [1,4,8,9,10]\n",
    "\n"
   ]
  },
  {
   "cell_type": "code",
   "execution_count": null,
   "metadata": {
    "autoscroll": false
   },
   "outputs": [],
   "source": [
    "##\n",
    "A = SparseMatrixCSC(6,4,Jp,I,V)\n",
    "\n"
   ]
  },
  {
   "cell_type": "code",
   "execution_count": null,
   "metadata": {
    "autoscroll": false
   },
   "outputs": [],
   "source": [
    "##\n",
    "y = spmatvec_csc(A,x)\n",
    "yjulia = A*x\n",
    "y - yjulia\n",
    "\n"
   ]
  },
  {
   "cell_type": "code",
   "execution_count": null,
   "metadata": {
    "autoscroll": false
   },
   "outputs": [],
   "source": [
    "## julia stores CSC\n",
    "@show typeof(A)\n",
    "whos()\n"
   ]
  },
  {
   "cell_type": "code",
   "execution_count": null,
   "metadata": {
    "autoscroll": false
   },
   "outputs": [],
   "source": [
    "##\n",
    "# So this takes 184 + 40 bytes\n",
    "# it stores: rowval = 64-bit integers, nnz of them\n",
    "#            nzval = 64-bit doubles, nnz of them\n",
    "#            colptr = 64-bit integers, n + 1 of them\n",
    "# 9 non-zeros, n = 4\n",
    "# 9*8*2 (bytes for I, V) + 5*8 (bytes for Jp)\n",
    "# sizeof(A) = 40\n",
    "9*8*2 + 5*8 + 40\n",
    "\n"
   ]
  },
  {
   "cell_type": "code",
   "execution_count": null,
   "metadata": {
    "autoscroll": false
   },
   "outputs": [],
   "source": [
    "## Random sparse matrices\n",
    "A = sprand(1_000_000,100_000,10/1_000_000)\n"
   ]
  }
 ],
 "metadata": {
  "kernelspec": {
   "display_name": "Julia 0.6.0",
   "language": "julia",
   "name": "julia-0.6"
  },
  "language_info": {
   "file_extension": ".jl",
   "mimetype": "application/julia",
   "name": "julia",
   "version": "0.6.0"
  }
 },
 "nbformat": 4,
 "nbformat_minor": 1
}
