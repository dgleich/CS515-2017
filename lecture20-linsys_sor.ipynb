{
 "cells": [
  {
   "cell_type": "code",
   "execution_count": 1,
   "metadata": {
    "autoscroll": false
   },
   "outputs": [
    {
     "data": {
      "text/plain": [
       "linsys_sor"
      ]
     },
     "execution_count": 1,
     "metadata": {},
     "output_type": "execute_result"
    }
   ],
   "source": [
    "\"\"\"\n",
    "linsys_sor Solve a linear system with the SOR method\n",
    "    x = linsys_sor(A,b) uses the Gauss-Seidel method,\n",
    "    i.e. SOR with omega = 1 and computes a solution\n",
    "    where the element-wise difference in iterates\n",
    "    is less than 1e-8\n",
    "\n",
    "    x,hist = linsys_sor(A,b,omega,tol,maxit) also takes\n",
    "    additional arguments that give:\n",
    "    the value of omega: 0 < omega < 2,\n",
    "    the stopping tolerance: tol >= 0\n",
    "    the maximum number of iterations: maxit > 0\n",
    "    each argument assumes it's default value of\n",
    "        omega = 1\n",
    "        tol = 1e-8\n",
    "        maxit = 10*sqrt(n)\n",
    "\n",
    "     hist returns the largest element-wise change in each\n",
    "     iteration, and this is an upper-bound on the residual.\n",
    "```\n",
    "Example:\n",
    "    L = [\n",
    "        4    -1     0    -1     0     0     0     0     0\n",
    "       -1     4    -1     0    -1     0     0     0     0\n",
    "        0    -1     4     0     0    -1     0     0     0\n",
    "       -1     0     0     4    -1     0    -1     0     0\n",
    "        0    -1     0    -1     4    -1     0    -1     0\n",
    "        0     0    -1     0    -1     4     0     0    -1\n",
    "        0     0     0    -1     0     0     4    -1     0\n",
    "        0     0     0     0    -1     0    -1     4    -1\n",
    "        0     0     0     0     0    -1     0    -1     4\n",
    "    ]\n",
    "    b = ones(size(L,1))\n",
    "    x = linsys_sor(L,b)\n",
    "```\n",
    "\"\"\"\n",
    "\n",
    "function linsys_sor(A,b,omega,tol,maxit)\n",
    "  n = length(b)\n",
    "\n",
    "  x = b[:]\n",
    "  At = A' #transpose the matrix to get faster access to each row.\n",
    "  normb = norm(b,Inf)\n",
    "  hist = zeros(maxit)\n",
    "\n",
    "  assert(size(At,1) == n)\n",
    "  assert(size(At,2) == n)\n",
    "\n",
    "\n",
    "  iter = 1\n",
    "  dt = 0\n",
    "  maxdiff = 0\n",
    "  for iter = 1:maxit\n",
    "    tic()\n",
    "    maxdiff = 0\n",
    "    for i = 1:n\n",
    "      # see Golub and van Loan, equation 10.1.7 in the 3rd edition\n",
    "      # see Golub and van Loan, equation 11.2.20 in the 4th edition\n",
    "\n",
    "      ai = find(At[:,i]) # get the info in the ith row\n",
    "      av = At[ai,i]\n",
    "      xi = b[i]\n",
    "      aii = 0\n",
    "      for ind = 1:length(ai)\n",
    "        if ai[ind] == i\n",
    "          aii = av[ind]\n",
    "        else\n",
    "          xi = xi - av[ind]*x[ai[ind]]\n",
    "        end\n",
    "      end\n",
    "      maxdiff = max(maxdiff, abs(omega*xi/aii + (1-omega)*x[i] - x[i]))\n",
    "      x[i] = omega*xi/aii + (1-omega)*x[i]\n",
    "    end\n",
    "    hist[iter] = maxdiff\n",
    "    if mod(iter,10^floor(log10(iter)))==0 || iter==maxit || maxdiff/normb <= tol\n",
    "      dt += toq()\n",
    "      @printf(\" iter=%8i  diff=%8.1e  res=%8.1e  time=%7.1f\\n\",\n",
    "      iter, maxdiff, norm(b-A*x)/norm(b), dt)\n",
    "    end\n",
    "    if maxdiff/normb <= tol\n",
    "      break\n",
    "    end\n",
    "  end\n",
    "  if iter==maxit && maxdiff/normb > tol\n",
    "    warn(@sprintf(\" the sor method with omega=%f\n",
    "    did not converge to a tolerance of %.1e\n",
    "    in %i steps\",omega,tol,maxit))\n",
    "  end\n",
    "  hist = hist[1:maxit]\n",
    "  return x,hist\n",
    "end\n",
    "\n",
    "# linsys_sor(A,b) = linsys_sor(A,b,1,1e-8,ceil(Int64,10*sqrt(length(b))))\n",
    "# linsys_sor(A,b,omega) = linsys_sor(A,b,omega,1e-8,ceil(Int64,10*sqrt(length(b))))\n"
   ]
  },
  {
   "cell_type": "code",
   "execution_count": 2,
   "metadata": {},
   "outputs": [
    {
     "data": {
      "text/plain": [
       "linsys_sor (generic function with 2 methods)"
      ]
     },
     "execution_count": 2,
     "metadata": {},
     "output_type": "execute_result"
    }
   ],
   "source": [
    "linsys_sor(A,b) = linsys_sor(A,b,1,1e-8,ceil(Int64,10*sqrt(length(b))))"
   ]
  },
  {
   "cell_type": "code",
   "execution_count": 3,
   "metadata": {},
   "outputs": [
    {
     "data": {
      "text/plain": [
       "linsys_sor (generic function with 3 methods)"
      ]
     },
     "execution_count": 3,
     "metadata": {},
     "output_type": "execute_result"
    }
   ],
   "source": [
    "linsys_sor(A,b,omega) = linsys_sor(A,b,omega,1e-8,ceil(Int64,10*sqrt(length(b))))"
   ]
  },
  {
   "cell_type": "code",
   "execution_count": 4,
   "metadata": {},
   "outputs": [
    {
     "name": "stdout",
     "output_type": "stream",
     "text": [
      " iter=       1  diff= 2.7e-01  res= 1.3e-01  time=    0.0\n",
      " iter=       2  diff= 7.0e-02  res= 6.2e-02  time=    0.0\n",
      " iter=       3  diff= 3.9e-02  res= 3.4e-02  time=    0.0\n",
      " iter=       4  diff= 2.0e-02  res= 1.9e-02  time=    0.0\n",
      " iter=       5  diff= 9.8e-03  res= 1.0e-02  time=    0.0\n",
      " iter=       6  diff= 4.9e-03  res= 5.2e-03  time=    0.0\n",
      " iter=       7  diff= 2.4e-03  res= 2.6e-03  time=    0.0\n",
      " iter=       8  diff= 1.2e-03  res= 1.3e-03  time=    0.0\n",
      " iter=       9  diff= 6.1e-04  res= 6.5e-04  time=    0.0\n",
      " iter=      10  diff= 3.1e-04  res= 3.2e-04  time=    0.0\n",
      " iter=      20  diff= 3.0e-07  res= 3.2e-07  time=    0.0\n",
      " iter=      25  diff= 9.3e-09  res= 9.9e-09  time=    0.0\n"
     ]
    },
    {
     "data": {
      "text/plain": [
       "([0.6875, 0.875, 0.6875, 0.875, 1.125, 0.875, 0.6875, 0.875, 0.6875], [0.265625, 0.0698242, 0.0390625, 0.0195313, 0.00976563, 0.00488281, 0.00244141, 0.0012207, 0.000610352, 0.000305176  …  1.49012e-7, 7.45058e-8, 3.72529e-8, 1.86265e-8, 9.31323e-9, 0.0, 0.0, 0.0, 0.0, 0.0])"
      ]
     },
     "execution_count": 4,
     "metadata": {},
     "output_type": "execute_result"
    }
   ],
   "source": [
    "    L = [\n",
    "        4    -1     0    -1     0     0     0     0     0\n",
    "       -1     4    -1     0    -1     0     0     0     0\n",
    "        0    -1     4     0     0    -1     0     0     0\n",
    "       -1     0     0     4    -1     0    -1     0     0\n",
    "        0    -1     0    -1     4    -1     0    -1     0\n",
    "        0     0    -1     0    -1     4     0     0    -1\n",
    "        0     0     0    -1     0     0     4    -1     0\n",
    "        0     0     0     0    -1     0    -1     4    -1\n",
    "        0     0     0     0     0    -1     0    -1     4\n",
    "    ]\n",
    "    b = ones(size(L,1))\n",
    "    x = linsys_sor(L,b)"
   ]
  },
  {
   "cell_type": "code",
   "execution_count": null,
   "metadata": {
    "collapsed": true
   },
   "outputs": [],
   "source": []
  }
 ],
 "metadata": {
  "kernelspec": {
   "display_name": "Julia 0.6.0",
   "language": "julia",
   "name": "julia-0.6"
  },
  "language_info": {
   "file_extension": ".jl",
   "mimetype": "application/julia",
   "name": "julia",
   "version": "0.6.0"
  }
 },
 "nbformat": 4,
 "nbformat_minor": 1
}
